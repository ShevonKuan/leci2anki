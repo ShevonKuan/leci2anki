{
 "cells": [
  {
   "cell_type": "markdown",
   "metadata": {},
   "source": [
    "## 1* 使用海词接口"
   ]
  },
  {
   "cell_type": "code",
   "execution_count": 1,
   "metadata": {},
   "outputs": [],
   "source": [
    "import haici"
   ]
  },
  {
   "cell_type": "markdown",
   "metadata": {},
   "source": [
    "## 2 构建词书单词映射"
   ]
  },
  {
   "cell_type": "markdown",
   "metadata": {},
   "source": [
    "### 2-1 词书完整映射"
   ]
  },
  {
   "cell_type": "code",
   "execution_count": 2,
   "metadata": {},
   "outputs": [],
   "source": [
    "import sqlite3\n",
    "word_list_1118 = {}\n",
    "conn = sqlite3.connect('vocabulary_1118.db')\n",
    "c = conn.cursor()\n",
    "cursor = c.execute(\"SELECT * FROM word;\")\n",
    "for row in cursor:\n",
    "    word_list_1118[row[0]] = row[1]\n",
    "conn.close()"
   ]
  },
  {
   "cell_type": "code",
   "execution_count": 3,
   "metadata": {},
   "outputs": [],
   "source": [
    "import sqlite3\n",
    "word_list_1121 = {}\n",
    "conn = sqlite3.connect('vocabulary_1121.db')\n",
    "c = conn.cursor()\n",
    "cursor = c.execute(\"SELECT * FROM word;\")\n",
    "for row in cursor:\n",
    "    word_list_1121[row[0]] = row[1]\n",
    "conn.close()"
   ]
  },
  {
   "cell_type": "markdown",
   "metadata": {},
   "source": [
    "### 2-2 词书单元映射"
   ]
  },
  {
   "cell_type": "markdown",
   "metadata": {},
   "source": [
    "## 3 获取需要复习的单词"
   ]
  },
  {
   "cell_type": "markdown",
   "metadata": {},
   "source": [
    "### 3-1 加分宝超纲词"
   ]
  },
  {
   "cell_type": "code",
   "execution_count": 4,
   "metadata": {},
   "outputs": [],
   "source": [
    "import sqlite3\n",
    "\n",
    "word_over = []\n",
    "conn = sqlite3.connect('vocabulary_1121.db')\n",
    "c = conn.cursor()\n",
    "cursor = c.execute(\"SELECT * FROM vocabulary_unit_mapping WHERE unitNum=1;\")\n",
    "for row in cursor:\n",
    "    word_over.append(word_list_1121[row[1]])\n",
    "conn.close()"
   ]
  },
  {
   "cell_type": "markdown",
   "metadata": {},
   "source": [
    "### 3-2 加分宝零频词"
   ]
  },
  {
   "cell_type": "code",
   "execution_count": 5,
   "metadata": {},
   "outputs": [],
   "source": [
    "import sqlite3\n",
    "\n",
    "word_0 = []\n",
    "conn = sqlite3.connect('vocabulary_1121.db')\n",
    "c = conn.cursor()\n",
    "cursor = c.execute(\"SELECT * FROM vocabulary_unit_mapping WHERE unitNum=2;\")\n",
    "for row in cursor:\n",
    "    word_0.append(word_list_1121[row[1]])\n",
    "conn.close()"
   ]
  },
  {
   "cell_type": "markdown",
   "metadata": {},
   "source": [
    "### 3-3 加分宝简单词"
   ]
  },
  {
   "cell_type": "code",
   "execution_count": 6,
   "metadata": {},
   "outputs": [],
   "source": [
    "import sqlite3\n",
    "\n",
    "word_simple = []\n",
    "conn = sqlite3.connect('vocabulary_1121.db')\n",
    "c = conn.cursor()\n",
    "cursor = c.execute(\"SELECT * FROM vocabulary_unit_mapping WHERE unitNum=3;\")\n",
    "for row in cursor:\n",
    "    word_simple.append(word_list_1121[row[1]])\n",
    "conn.close()"
   ]
  },
  {
   "cell_type": "markdown",
   "metadata": {},
   "source": [
    "### 3-4 原书单元词汇"
   ]
  },
  {
   "cell_type": "code",
   "execution_count": 7,
   "metadata": {},
   "outputs": [],
   "source": [
    "import sqlite3\n",
    "\n",
    "word_unit = []\n",
    "conn = sqlite3.connect('vocabulary_1118.db')\n",
    "c = conn.cursor()\n",
    "cursor = c.execute(\"SELECT * FROM vocabulary_unit_mapping WHERE unitNum<22;\")\n",
    "for row in cursor:\n",
    "    word_unit.append(word_list_1118[row[1]])\n",
    "conn.close()"
   ]
  },
  {
   "cell_type": "markdown",
   "metadata": {},
   "source": [
    "### 3-5 原书一频词"
   ]
  },
  {
   "cell_type": "code",
   "execution_count": 8,
   "metadata": {},
   "outputs": [],
   "source": [
    "import sqlite3\n",
    "\n",
    "word_1 = []\n",
    "conn = sqlite3.connect('vocabulary_1118.db')\n",
    "c = conn.cursor()\n",
    "cursor = c.execute(\"SELECT * FROM vocabulary_unit_mapping WHERE unitNum=22;\")\n",
    "for row in cursor:\n",
    "    word_1.append(word_list_1118[row[1]])\n",
    "conn.close()"
   ]
  },
  {
   "cell_type": "markdown",
   "metadata": {},
   "source": [
    "### 3-6 需要强化的单词"
   ]
  },
  {
   "cell_type": "code",
   "execution_count": null,
   "metadata": {},
   "outputs": [],
   "source": [
    "import sqlite3\n",
    "\n",
    "word_reverse = []\n",
    "conn = sqlite3.connect('study.db')\n",
    "c = conn.cursor()\n",
    "cursor = c.execute(\n",
    "    \"SELECT * FROM deckitems_1118 WHERE isIndistinct=1 ORDER BY ordinal;\")\n",
    "for row in cursor:\n",
    "    word_reverse.append(word_list_1118[row[0]])\n",
    "conn.close()\n",
    "print(len(word_reverse))\n",
    "print(word_reverse)"
   ]
  },
  {
   "cell_type": "markdown",
   "metadata": {},
   "source": [
    "## 4 词卡生成"
   ]
  },
  {
   "cell_type": "markdown",
   "metadata": {},
   "source": [
    "### 使用海词接口"
   ]
  },
  {
   "cell_type": "code",
   "execution_count": 11,
   "metadata": {},
   "outputs": [
    {
     "name": "stdout",
     "output_type": "stream",
     "text": [
      " zonehelvesclynd/gasolenetancyworldwide"
     ]
    }
   ],
   "source": [
    "word_card = ['单元词', '一频词', '零频词', '超纲词', '简单词']\n",
    "word_name = [word_unit, word_1, word_0, word_over, word_simple]\n",
    "err_word = []\n",
    "for i in range(5):\n",
    "    with open(word_card[i] + '.txt', 'w', encoding='utf8') as file:\n",
    "        for word in word_name[i]:\n",
    "            print('\\r', word, end='')\n",
    "            try:\n",
    "                p = haici.search_word(word)\n",
    "                file.write(word + '\\t' + p + '\\n')\n",
    "            except ValueError:\n",
    "                err_word.append(word)\n",
    "            except:\n",
    "                p = haici.search_word(word)\n",
    "                file.write(word + '\\t' + p + '\\n')\n",
    "            continue"
   ]
  },
  {
   "cell_type": "code",
   "execution_count": 12,
   "metadata": {},
   "outputs": [],
   "source": [
    "with open('error_words.txt', 'w') as e:\n",
    "    for word in err_word:\n",
    "        e.write(word+'\\n')"
   ]
  }
 ],
 "metadata": {
  "interpreter": {
   "hash": "b3ba2566441a7c06988d0923437866b63cedc61552a5af99d1f4fb67d367b25f"
  },
  "kernelspec": {
   "display_name": "Python 3.8.12 ('base')",
   "language": "python",
   "name": "python3"
  },
  "language_info": {
   "codemirror_mode": {
    "name": "ipython",
    "version": 3
   },
   "file_extension": ".py",
   "mimetype": "text/x-python",
   "name": "python",
   "nbconvert_exporter": "python",
   "pygments_lexer": "ipython3",
   "version": "3.8.12"
  },
  "orig_nbformat": 4
 },
 "nbformat": 4,
 "nbformat_minor": 2
}
